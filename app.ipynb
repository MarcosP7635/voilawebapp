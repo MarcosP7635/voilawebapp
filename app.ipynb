{
 "cells": [
  {
   "cell_type": "markdown",
   "id": "8631a836",
   "metadata": {},
   "source": [
    "# Voila Web App\n",
    "\n",
    "## A website built out of a Jupyter notebook using Voila"
   ]
  },
  {
   "cell_type": "code",
   "execution_count": 2,
   "id": "68063769",
   "metadata": {},
   "outputs": [],
   "source": [
    "import numpy as np\n",
    "import matplotlib.pyplot as plt\n",
    "from ipywidgets import interactive\n",
    "%matplotlib inline"
   ]
  },
  {
   "cell_type": "code",
   "execution_count": 3,
   "id": "30bb81c4",
   "metadata": {},
   "outputs": [
    {
     "data": {
      "application/vnd.jupyter.widget-view+json": {
       "model_id": "ad4cb9b8443341da80db553ee6091ab8",
       "version_major": 2,
       "version_minor": 0
      },
      "text/plain": [
       "interactive(children=(FloatSlider(value=-1.0, description='a', max=0.0, min=-1.0), FloatSlider(value=0.55, des…"
      ]
     },
     "metadata": {},
     "output_type": "display_data"
    }
   ],
   "source": [
    "def plot_func(a, f):\n",
    "    plt.figure(2)\n",
    "    x = np.linspace(0, 2*np.pi, num=1000)\n",
    "    y = a*np.sin(1/f*x)\n",
    "    plt.plot(x,y)\n",
    "    plt.ylim(-1.1, 1.1)\n",
    "    plt.title('a sin(f)')\n",
    "    plt.show()\n",
    "\n",
    "interactive_plot = interactive(plot_func, a=(-1,0,0.1), f=(0.1, 1))\n",
    "output = interactive_plot.children[-1]\n",
    "output.layout.height = '300px'\n",
    "interactive_plot"
   ]
  },
  {
   "cell_type": "markdown",
   "id": "2ca644c4",
   "metadata": {},
   "source": [
    "If you want recreate this, follow these steps:\n",
    "\n",
    "https://pythonforundergradengineers.com/deploy-jupyter-notebook-voila-heroku.html \n",
    "\n",
    "with the following corrections/updates\n",
    "\n",
    "- Use python version 3.9.13\n",
    "\n",
    "- Make sure to include --Voila.ip=0.0.0.0 in the Procfile per \n",
    "https://github.com/voila-dashboards/voila/issues/1047"
   ]
  }
 ],
 "metadata": {
  "kernelspec": {
   "display_name": "Python 3.9.10 64-bit (system)",
   "language": "python",
   "name": "python3"
  },
  "language_info": {
   "codemirror_mode": {
    "name": "ipython",
    "version": 3
   },
   "file_extension": ".py",
   "mimetype": "text/x-python",
   "name": "python",
   "nbconvert_exporter": "python",
   "pygments_lexer": "ipython3",
   "version": "3.9.10"
  },
  "vscode": {
   "interpreter": {
    "hash": "274785dbb282d05f4e0ae2ca70ac66f1fa0484127cd60ef9f4ac2dd997977034"
   }
  }
 },
 "nbformat": 4,
 "nbformat_minor": 5
}
